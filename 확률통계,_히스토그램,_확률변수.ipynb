{
  "nbformat": 4,
  "nbformat_minor": 0,
  "metadata": {
    "colab": {
      "provenance": [],
      "toc_visible": true,
      "authorship_tag": "ABX9TyNjffT9dsRpVwp+0mn3tCs2",
      "include_colab_link": true
    },
    "kernelspec": {
      "name": "python3",
      "display_name": "Python 3"
    },
    "language_info": {
      "name": "python"
    }
  },
  "cells": [
    {
      "cell_type": "markdown",
      "metadata": {
        "id": "view-in-github",
        "colab_type": "text"
      },
      "source": [
        "<a href=\"https://colab.research.google.com/github/dulwn/doit-hcj-new/blob/main/%ED%99%95%EB%A5%A0%ED%86%B5%EA%B3%84%2C_%ED%9E%88%EC%8A%A4%ED%86%A0%EA%B7%B8%EB%9E%A8%2C_%ED%99%95%EB%A5%A0%EB%B3%80%EC%88%98.ipynb\" target=\"_parent\"><img src=\"https://colab.research.google.com/assets/colab-badge.svg\" alt=\"Open In Colab\"/></a>"
      ]
    },
    {
      "cell_type": "markdown",
      "source": [
        "###Factorial"
      ],
      "metadata": {
        "id": "cRAXNv7WBdjb"
      }
    },
    {
      "cell_type": "code",
      "execution_count": 8,
      "metadata": {
        "id": "pzZxuaUkADtT"
      },
      "outputs": [],
      "source": [
        "def factorial(n):\n",
        "  nlist = [x for x in range(1,n+1)] #range 함수 1이상 n+1 미만\n",
        "  result = 1\n",
        "  for x in nlist:\n",
        "    result = result * x\n",
        "  return result"
      ]
    },
    {
      "cell_type": "code",
      "source": [
        "factorial(5)"
      ],
      "metadata": {
        "colab": {
          "base_uri": "https://localhost:8080/"
        },
        "id": "GEN9FnpYAQyO",
        "outputId": "d28bf8e6-b756-4a73-d3be-02ea8cb7028d"
      },
      "execution_count": 9,
      "outputs": [
        {
          "output_type": "execute_result",
          "data": {
            "text/plain": [
              "120"
            ]
          },
          "metadata": {},
          "execution_count": 9
        }
      ]
    },
    {
      "cell_type": "markdown",
      "source": [
        "###Combination\n",
        "서로 다른 n개의 원소를 가지는 어떤 집합에서 순서와 상관없이 x개의 원소를 선택할 수 있는 가짓수"
      ],
      "metadata": {
        "id": "LmF5ObR6Be9W"
      }
    },
    {
      "cell_type": "code",
      "source": [
        "def combination(n,r):\n",
        "  return factorial(n)/(factorial(r)*factorial(n-r))"
      ],
      "metadata": {
        "id": "lpkxOjfpAnfX"
      },
      "execution_count": null,
      "outputs": []
    },
    {
      "cell_type": "markdown",
      "source": [
        "###자연 상수 e"
      ],
      "metadata": {
        "id": "hpCQGVqMC1Rs"
      }
    },
    {
      "cell_type": "markdown",
      "source": [
        "밑의 코드// n값이 커질 수록 e 값에 가까워진다"
      ],
      "metadata": {
        "id": "5wqA9DcJEFGO"
      }
    },
    {
      "cell_type": "code",
      "source": [
        "def find_e(n):\n",
        "  res = 0\n",
        "  for x in range(n):\n",
        "    res += 1 / factorial(x)\n",
        "  return res"
      ],
      "metadata": {
        "id": "P0PShieCC58t"
      },
      "execution_count": 14,
      "outputs": []
    },
    {
      "cell_type": "code",
      "source": [
        "find_e(10)"
      ],
      "metadata": {
        "colab": {
          "base_uri": "https://localhost:8080/"
        },
        "id": "dC66zTgJDLTA",
        "outputId": "b68c4605-18f2-4e54-fdf8-a71959e25b34"
      },
      "execution_count": 15,
      "outputs": [
        {
          "output_type": "execute_result",
          "data": {
            "text/plain": [
              "2.7182815255731922"
            ]
          },
          "metadata": {},
          "execution_count": 15
        }
      ]
    },
    {
      "cell_type": "code",
      "source": [
        "find_e(100)"
      ],
      "metadata": {
        "colab": {
          "base_uri": "https://localhost:8080/"
        },
        "id": "okT1baaDDoYF",
        "outputId": "a7c994b0-e174-4b50-acc6-ffa2d6807f15"
      },
      "execution_count": 16,
      "outputs": [
        {
          "output_type": "execute_result",
          "data": {
            "text/plain": [
              "2.7182818284590455"
            ]
          },
          "metadata": {},
          "execution_count": 16
        }
      ]
    },
    {
      "cell_type": "markdown",
      "source": [
        "###수열"
      ],
      "metadata": {
        "id": "ofoTnpUjEYun"
      }
    },
    {
      "cell_type": "markdown",
      "source": [
        "등차수열 (arithmetic sequence)"
      ],
      "metadata": {
        "id": "p3GGf-6jEgL8"
      }
    },
    {
      "cell_type": "code",
      "source": [
        "def seq(start, diff, num_of_ele):\n",
        "  seq = []\n",
        "  for i in range(1, num_of_ele + 1):\n",
        "    seq.append(start + diff * (i-1))\n",
        "  return seq"
      ],
      "metadata": {
        "id": "-ueEeuM2D0Lu"
      },
      "execution_count": 21,
      "outputs": []
    },
    {
      "cell_type": "code",
      "source": [
        "seq(1, 2, 5)"
      ],
      "metadata": {
        "colab": {
          "base_uri": "https://localhost:8080/"
        },
        "id": "PnhvD482E-Ig",
        "outputId": "6b9b034e-d692-4228-d244-ce03cd44eb7a"
      },
      "execution_count": 22,
      "outputs": [
        {
          "output_type": "execute_result",
          "data": {
            "text/plain": [
              "[1, 3, 5, 7, 9]"
            ]
          },
          "metadata": {},
          "execution_count": 22
        }
      ]
    },
    {
      "cell_type": "markdown",
      "source": [
        "등비수열 (geometric sequence)\n",
        "an = ar^(n-1)"
      ],
      "metadata": {
        "id": "fbPIRaJWFXHN"
      }
    },
    {
      "cell_type": "code",
      "source": [
        "def geo_seq(start, ratio, num_of_ele):\n",
        "  seq = []\n",
        "  for i in range(1, num_of_ele + 1):\n",
        "    seq.append(start * ratio ** (i-1))\n",
        "  return seq"
      ],
      "metadata": {
        "id": "CUrYXHCuFW4A"
      },
      "execution_count": 25,
      "outputs": []
    },
    {
      "cell_type": "code",
      "source": [
        "geo_seq(1, 2, 5)"
      ],
      "metadata": {
        "colab": {
          "base_uri": "https://localhost:8080/"
        },
        "id": "e5D7urmWFDfd",
        "outputId": "dadfe148-55f5-4e83-8226-a9064ba89f76"
      },
      "execution_count": 26,
      "outputs": [
        {
          "output_type": "execute_result",
          "data": {
            "text/plain": [
              "[1, 2, 4, 8, 16]"
            ]
          },
          "metadata": {},
          "execution_count": 26
        }
      ]
    },
    {
      "cell_type": "markdown",
      "source": [
        "###확률변수 파이썬 실습"
      ],
      "metadata": {
        "id": "LmXGyDx-SzIq"
      }
    },
    {
      "cell_type": "code",
      "source": [
        "data = [1, 3, 3, 2, 3, 4, 2, 4, 5, 3]"
      ],
      "metadata": {
        "id": "lQjTvouOFzF_"
      },
      "execution_count": 67,
      "outputs": []
    },
    {
      "cell_type": "code",
      "source": [
        "keys = list(set(data))\n",
        "keys.sort() ##정렬한다, set(unique values만 추출)"
      ],
      "metadata": {
        "id": "e_UHTAf_TAHm"
      },
      "execution_count": 68,
      "outputs": []
    },
    {
      "cell_type": "code",
      "source": [
        "data_freq = {}\n",
        "for key in keys:\n",
        "  data_freq[key] = 0"
      ],
      "metadata": {
        "id": "wXUozWAdTC1E"
      },
      "execution_count": 69,
      "outputs": []
    },
    {
      "cell_type": "code",
      "source": [
        "data_freq"
      ],
      "metadata": {
        "colab": {
          "base_uri": "https://localhost:8080/"
        },
        "id": "3n-k_J08VhAf",
        "outputId": "4d7142ca-562a-4028-c29c-43baae3e4c90"
      },
      "execution_count": 70,
      "outputs": [
        {
          "output_type": "execute_result",
          "data": {
            "text/plain": [
              "{1: 0, 2: 0, 3: 0, 4: 0, 5: 0}"
            ]
          },
          "metadata": {},
          "execution_count": 70
        }
      ]
    },
    {
      "cell_type": "code",
      "source": [
        "##data 안의 값의 빈도수를 센다\n",
        "for x in data:\n",
        "  data_freq[x] += 1\n",
        "\n",
        "data_freq"
      ],
      "metadata": {
        "colab": {
          "base_uri": "https://localhost:8080/"
        },
        "id": "OsbNcGb9VjyG",
        "outputId": "2a0b5565-4310-4d9a-8b8d-0440cf20e22a"
      },
      "execution_count": 71,
      "outputs": [
        {
          "output_type": "execute_result",
          "data": {
            "text/plain": [
              "{1: 1, 2: 2, 3: 4, 4: 2, 5: 1}"
            ]
          },
          "metadata": {},
          "execution_count": 71
        }
      ]
    },
    {
      "cell_type": "markdown",
      "source": [
        "함수화"
      ],
      "metadata": {
        "id": "YNYUj-gNXP6R"
      }
    },
    {
      "cell_type": "code",
      "source": [
        "data = [1, 3, 3, 2, 3, 4, 2, 4, 5, 3]"
      ],
      "metadata": {
        "id": "j3ONFqvYYIuR"
      },
      "execution_count": 57,
      "outputs": []
    },
    {
      "cell_type": "code",
      "source": [
        "def find_freq(data_list):\n",
        "  keys = list(set(data_list))\n",
        "  keys.sort()\n",
        "  data_freq = {}\n",
        "  for key in keys:\n",
        "    data_freq[key] = 0\n",
        "\n",
        "  for data in data_list:\n",
        "    data_freq[data] += 1\n",
        "\n",
        "  return data_freq"
      ],
      "metadata": {
        "id": "9x1CXOY8XQpy"
      },
      "execution_count": 58,
      "outputs": []
    },
    {
      "cell_type": "code",
      "source": [
        "find_freq(data)"
      ],
      "metadata": {
        "colab": {
          "base_uri": "https://localhost:8080/"
        },
        "id": "GfRCA4e7XgEh",
        "outputId": "d0bd8214-3cfb-49cb-c4e0-58def89f30ef"
      },
      "execution_count": 59,
      "outputs": [
        {
          "output_type": "execute_result",
          "data": {
            "text/plain": [
              "{1: 1, 2: 2, 3: 4, 4: 2, 5: 1}"
            ]
          },
          "metadata": {},
          "execution_count": 59
        }
      ]
    },
    {
      "cell_type": "markdown",
      "source": [
        "함수화 다른 풀이"
      ],
      "metadata": {
        "id": "sX4loi69ZUHV"
      }
    },
    {
      "cell_type": "code",
      "source": [
        "data = [1, 3, 3, 2, 3, 4, 2, 4, 5, 3]"
      ],
      "metadata": {
        "id": "rM_LZZ2GZYH9"
      },
      "execution_count": 74,
      "outputs": []
    },
    {
      "cell_type": "code",
      "source": [
        "data.count(1) ##build in function:  리스트 내 특정 값의 등장 횟수 반환"
      ],
      "metadata": {
        "colab": {
          "base_uri": "https://localhost:8080/"
        },
        "id": "pT1vSBe4Y2W8",
        "outputId": "cd38429b-461d-486c-f1ad-70c7d237dac8"
      },
      "execution_count": 75,
      "outputs": [
        {
          "output_type": "execute_result",
          "data": {
            "text/plain": [
              "1"
            ]
          },
          "metadata": {},
          "execution_count": 75
        }
      ]
    },
    {
      "cell_type": "code",
      "source": [
        "def find_freq(data_list):\n",
        "  keys = list(set(data_list))\n",
        "  keys.sort()\n",
        "  data_freq = {}\n",
        "  for key in keys:\n",
        "    data_freq[key] = data_list.count(key)\n",
        "##위에터럼 data_list literate하면서 빈도수 찾지 않고 build-in function활용\n",
        "\n",
        "  return data_freq"
      ],
      "metadata": {
        "id": "x40vRIleZFmL"
      },
      "execution_count": 76,
      "outputs": []
    },
    {
      "cell_type": "code",
      "source": [
        "find_freq(data)"
      ],
      "metadata": {
        "colab": {
          "base_uri": "https://localhost:8080/"
        },
        "id": "BoJr7kuWX_Rp",
        "outputId": "755c6c1a-6e28-4bd1-f1e9-11c164bca2f6"
      },
      "execution_count": 77,
      "outputs": [
        {
          "output_type": "execute_result",
          "data": {
            "text/plain": [
              "{1: 1, 2: 2, 3: 4, 4: 2, 5: 1}"
            ]
          },
          "metadata": {},
          "execution_count": 77
        }
      ]
    },
    {
      "cell_type": "markdown",
      "source": [
        "data 빈도수를 비율로 변환"
      ],
      "metadata": {
        "id": "HZW5xJ2aZ4WW"
      }
    },
    {
      "cell_type": "code",
      "source": [
        "data = [1, 3, 3, 2, 3, 4, 2, 4, 5, 3]"
      ],
      "metadata": {
        "id": "AS-c0fKUZdG5"
      },
      "execution_count": 121,
      "outputs": []
    },
    {
      "cell_type": "code",
      "source": [
        "def find_ratio(data_list):\n",
        "  keys = list(set(data_list))\n",
        "  keys.sort()\n",
        "  data_rat = {}\n",
        "  for key in keys:\n",
        "    data_rat[key] = data_list.count(key) / len(data_list)\n",
        "  return data_rat\n",
        ""
      ],
      "metadata": {
        "id": "Rm7ZyIKtaAfz"
      },
      "execution_count": 122,
      "outputs": []
    },
    {
      "cell_type": "code",
      "source": [
        "find_ratio(data)"
      ],
      "metadata": {
        "colab": {
          "base_uri": "https://localhost:8080/"
        },
        "id": "SeB2_oo2bFvQ",
        "outputId": "925cbe01-1756-4287-ef96-d145c640500a"
      },
      "execution_count": 123,
      "outputs": [
        {
          "output_type": "execute_result",
          "data": {
            "text/plain": [
              "{1: 0.1, 2: 0.2, 3: 0.4, 4: 0.2, 5: 0.1}"
            ]
          },
          "metadata": {},
          "execution_count": 123
        }
      ]
    },
    {
      "cell_type": "code",
      "source": [
        "import matplotlib.pyplot as plt"
      ],
      "metadata": {
        "id": "ABmEvNsKaoKm"
      },
      "execution_count": 124,
      "outputs": []
    },
    {
      "cell_type": "code",
      "source": [
        "plt.hist(data)\n",
        "## data type: list or array\n",
        "plt.xlabel('type of numbers')\n",
        "plt.ylabel('frequency')\n",
        "plt.title('frequency vs type of numbers ')\n",
        "plt.show()"
      ],
      "metadata": {
        "colab": {
          "base_uri": "https://localhost:8080/",
          "height": 472
        },
        "id": "BFTmj3CDa0Pm",
        "outputId": "f8ec4c17-0897-48d0-ad5c-17e9f9296f82"
      },
      "execution_count": 137,
      "outputs": [
        {
          "output_type": "display_data",
          "data": {
            "text/plain": [
              "<Figure size 640x480 with 1 Axes>"
            ],
            "image/png": "[encoded data removed]"
          },
          "metadata": {}
        }
      ]
    },
    {
      "cell_type": "code",
      "source": [
        "plt.hist(data, bins=[1,2,3,4,5])\n",
        "## data type: list or array, bins=5: number of bars, 위에처럼 list으로 주면 edge value\n",
        "plt.show()"
      ],
      "metadata": {
        "colab": {
          "base_uri": "https://localhost:8080/",
          "height": 430
        },
        "id": "8lvJ83SWa8mK",
        "outputId": "f591b4a6-a69e-415d-e2d3-35a232df2e3e"
      },
      "execution_count": 129,
      "outputs": [
        {
          "output_type": "display_data",
          "data": {
            "text/plain": [
              "<Figure size 640x480 with 1 Axes>"
            ],
            "image/png": "[encoded data removed]"
          },
          "metadata": {}
        }
      ]
    },
    {
      "cell_type": "code",
      "source": [],
      "metadata": {
        "id": "rZdKCTyudAD2"
      },
      "execution_count": null,
      "outputs": []
    }
  ]
}